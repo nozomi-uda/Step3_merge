{
 "cells": [
  {
   "cell_type": "code",
   "execution_count": 2,
   "metadata": {},
   "outputs": [
    {
     "name": "stdout",
     "output_type": "stream",
     "text": [
      "重複削除が 38719 件行われました.\n"
     ]
    },
    {
     "name": "stderr",
     "output_type": "stream",
     "text": [
      "C:\\Users\\udano\\AppData\\Local\\Temp\\ipykernel_1940\\375235038.py:61: DeprecationWarning: [Deprecated][in version 6.0.0]: Method signature's arguments 'range_name' and 'values' will change their order. We recommend using named arguments for minimal impact. In addition, the argument 'values' will be mandatory of type: 'List[List]'. (ex) Worksheet.update(values = [[]], range_name=) \n",
      "  sheet3.update('A1', data_to_export)  # A1セルからデータを書き込む\n"
     ]
    },
    {
     "data": {
      "text/plain": [
       "{'spreadsheetId': '1-l-E6gb82lZQKlDSMpQX1LhH_z8bLG-u591WAzJv8p4',\n",
       " 'updatedRange': \"'シート3'!A1:Q38720\",\n",
       " 'updatedRows': 38720,\n",
       " 'updatedColumns': 17,\n",
       " 'updatedCells': 658240}"
      ]
     },
     "execution_count": 2,
     "metadata": {},
     "output_type": "execute_result"
    }
   ],
   "source": [
    "import gspread\n",
    "from google.oauth2.service_account import Credentials\n",
    "import pandas as pd\n",
    "\n",
    "# 認証情報の設定\n",
    "SERVICE_ACCOUNT_FILE = 'C:\\\\Users\\\\udano\\\\OneDrive\\\\デスクトップ\\\\Tech0\\\\Step3-1\\\\SUUMO\\\\googlespreadsheet.json'\n",
    "SCOPES = ['https://www.googleapis.com/auth/spreadsheets', 'https://www.googleapis.com/auth/drive']\n",
    "creds = Credentials.from_service_account_file(SERVICE_ACCOUNT_FILE, scopes=SCOPES)\n",
    "gc = gspread.authorize(creds)\n",
    "\n",
    "# 対象のスプレッドシートとワークシートを指定\n",
    "SPREADSHEET_KEY = '1-l-E6gb82lZQKlDSMpQX1LhH_z8bLG-u591WAzJv8p4'\n",
    "sheet1 = gc.open_by_key(SPREADSHEET_KEY).worksheet(\"シート1\")\n",
    "sheet2 = gc.open_by_key(SPREADSHEET_KEY).worksheet(\"シート2\")\n",
    "sheet3 = gc.open_by_key(SPREADSHEET_KEY).worksheet(\"シート3\")\n",
    "\n",
    "# Google スプレッドシートからデータを読み込む\n",
    "data_sheet1 = sheet1.get_all_values()\n",
    "data_sheet2 = sheet2.get_all_values()\n",
    "\n",
    "# データフレームに変換\n",
    "df_sheet1 = pd.DataFrame(data_sheet1[1:], columns=data_sheet1[0])\n",
    "df_sheet2 = pd.DataFrame(data_sheet2[1:], columns=data_sheet2[0])\n",
    "\n",
    "# データの整形（共通の列を保持）\n",
    "common_columns = list(set(df_sheet1.columns) & set(df_sheet2.columns))\n",
    "df_sheet1 = df_sheet1[common_columns]\n",
    "df_sheet2 = df_sheet2[common_columns]\n",
    "\n",
    "# データをマージする\n",
    "merged_df = pd.concat([df_sheet1, df_sheet2])\n",
    "\n",
    "# 'address' 列から区の名前を抽出して 'ward' 列を作成する関数\n",
    "def extract_ward(address):\n",
    "    if '東京都' in address and '区' in address:\n",
    "        return address.split('東京都')[1].split('区')[0] + '区'\n",
    "    else:\n",
    "        return ''  # 東京都や区が含まれていない場合は空文字を返す\n",
    "# apply関数を使用して、各アドレスに対してextract_ward関数を適用\n",
    "merged_df['ward'] = merged_df['address'].apply(extract_ward)\n",
    "\n",
    "# 列の順序を指定\n",
    "column_order = ['title', 'address', 'ward','age', 'floor', 'fee', 'management_fee', 'deposit', 'gratuity', 'floor_plan', 'area', 'access1_route', 'access1_nearest_station', 'access1_walking_minutes', 'access2_route', 'access2_nearest_station', 'access2_walking_minutes']\n",
    "merged_df = merged_df[column_order]\n",
    "\n",
    "# 重複を削除（全ての重複を削除）\n",
    "merged_df.drop_duplicates(subset=['title', 'floor', 'fee', 'floor_plan', 'area'], keep=False, inplace=True)\n",
    "\n",
    "# NaN値を空文字列に置き換える\n",
    "merged_df.fillna('', inplace=True)\n",
    "\n",
    "# 重複削除したデータ数をカウント\n",
    "duplicates_count = len(merged_df)\n",
    "print(\"重複削除が\", duplicates_count, \"件行われました.\")\n",
    "\n",
    "# データフレームをリスト形式に変換（列名を含む）\n",
    "data_to_export = [merged_df.columns.tolist()] + merged_df.values.tolist()\n",
    "\n",
    "# スプレッドシートのデータをクリアし、新たにデータを書き込む\n",
    "sheet3.clear()  # 既存のデータをクリア\n",
    "sheet3.update('A1', data_to_export)  # A1セルからデータを書き込む\n"
   ]
  },
  {
   "cell_type": "code",
   "execution_count": 4,
   "metadata": {},
   "outputs": [],
   "source": [
    "import gspread\n",
    "from google.oauth2.service_account import Credentials\n",
    "import pandas as pd\n",
    "import sqlite3\n",
    "\n",
    "# Googleスプレッドシートからデータを取得する関数\n",
    "def get_data_from_google_sheet():\n",
    "    # 認証情報の設定\n",
    "    SERVICE_ACCOUNT_FILE = 'C:\\\\Users\\\\udano\\\\OneDrive\\\\デスクトップ\\\\Tech0\\\\Step3-1\\\\SUUMO\\\\googlespreadsheet.json'\n",
    "    SCOPES = ['https://www.googleapis.com/auth/spreadsheets', 'https://www.googleapis.com/auth/drive']\n",
    "    creds = Credentials.from_service_account_file(SERVICE_ACCOUNT_FILE, scopes=SCOPES)\n",
    "    gc = gspread.authorize(creds)\n",
    "\n",
    "    # 対象のスプレッドシートとワークシートを指定\n",
    "    SPREADSHEET_KEY = '1-l-E6gb82lZQKlDSMpQX1LhH_z8bLG-u591WAzJv8p4'\n",
    "    sheet = gc.open_by_key(SPREADSHEET_KEY).worksheet(\"シート3\")\n",
    "\n",
    "    # Google スプレッドシートからデータを読み込む\n",
    "    data = sheet.get_all_values()\n",
    "\n",
    "    # データフレームに変換\n",
    "    df = pd.DataFrame(data[1:], columns=data[0])\n",
    "\n",
    "    return df\n",
    "\n",
    "# SQLiteデータベースにデータを書き込む関数\n",
    "def write_data_to_sqlite(dataframe, database_path):\n",
    "    conn = sqlite3.connect(database_path)\n",
    "    cursor = conn.cursor()\n",
    "\n",
    "    # データベースにデータを書き込む（データフレームをSQLiteテーブルとして作成）\n",
    "    dataframe.to_sql('property_table', conn, if_exists='replace', index=False)\n",
    "\n",
    "    # データベース接続を閉じる\n",
    "    conn.close()\n",
    "\n",
    "# メインの処理\n",
    "if __name__ == \"__main__\":\n",
    "    # Googleスプレッドシートからデータを取得\n",
    "    data_df = get_data_from_google_sheet()\n",
    "\n",
    "    # SQLiteデータベースにデータを書き込む\n",
    "    database_path = 'property.db'  # SQLiteデータベースファイルのパスを指定\n",
    "    write_data_to_sqlite(data_df, database_path)\n"
   ]
  },
  {
   "cell_type": "code",
   "execution_count": 6,
   "metadata": {},
   "outputs": [
    {
     "name": "stdout",
     "output_type": "stream",
     "text": [
      "('奥山方', '東京都荒川区西日暮里２', '荒川区', '41', '1', '150000', '0', '150000', '150000', '4K', '73.75', 'ＪＲ山手線', '日暮里駅', '5', 'ＪＲ山手線', '西日暮里駅', '10')\n",
      "('都営大江戸線 東中野駅 3階建 築21年', '東京都新宿区北新宿３', '新宿区', '21', '1', '190000', '10000', '0', '190000', '4SK', '80.0', '都営大江戸線', '東中野駅', '9', '東京メトロ東西線', '落合駅', '15')\n",
      "('上中里2丁目戸建', '東京都北区上中里２', '北区', '47', '1-3', '135000', '0', '135000', '135000', '4K', '60.0', 'ＪＲ高崎線', '尾久駅', '5', 'ＪＲ京浜東北線', '上中里駅', '6')\n",
      "('SORA赤塚新町', '東京都板橋区赤塚新町１', '板橋区', '63', '1-2', '130000', '0', '130000', '130000', '5K', '68.0', '東武東上線', '下赤塚駅', '6', '東京メトロ有楽町線', '地下鉄赤塚駅', '7')\n",
      "('レジディア秋葉原', '東京都台東区上野５', '台東区', '17', '11', '133000', '10000', '133000', '133000', '2K', '30.56', 'ＪＲ山手線', '秋葉原駅', '8', '東京メトロ銀座線', '末広町駅', '4')\n"
     ]
    }
   ],
   "source": [
    "import sqlite3\n",
    "# SQLiteデータベースに接続\n",
    "conn = sqlite3.connect('property.db')\n",
    "# カーソルオブジェクトの作成\n",
    "cursor = conn.cursor()\n",
    "# テーブルから上位5行を選択\n",
    "cursor.execute('SELECT * FROM property_table LIMIT 5')\n",
    "# 結果を取得して表示\n",
    "rows = cursor.fetchall()\n",
    "for row in rows:\n",
    "    print(row)\n",
    "# 接続を閉じる\n",
    "conn.close()"
   ]
  }
 ],
 "metadata": {
  "kernelspec": {
   "display_name": "Python 3",
   "language": "python",
   "name": "python3"
  },
  "language_info": {
   "codemirror_mode": {
    "name": "ipython",
    "version": 3
   },
   "file_extension": ".py",
   "mimetype": "text/x-python",
   "name": "python",
   "nbconvert_exporter": "python",
   "pygments_lexer": "ipython3",
   "version": "3.11.4"
  }
 },
 "nbformat": 4,
 "nbformat_minor": 2
}
